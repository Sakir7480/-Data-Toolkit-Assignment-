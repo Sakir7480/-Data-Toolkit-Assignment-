{
  "nbformat": 4,
  "nbformat_minor": 0,
  "metadata": {
    "colab": {
      "provenance": []
    },
    "kernelspec": {
      "name": "python3",
      "display_name": "Python 3"
    },
    "language_info": {
      "name": "python"
    }
  },
  "cells": [
    {
      "cell_type": "markdown",
      "source": [
        "                        Data Toolkit Assignment\n",
        "1.What is NumPy, and why is it widely used in Python?\n",
        "\n",
        ".NumPy (Numerical Python) is a powerful library in Python designed for numerical computations and data analysis. It provides a multi-dimensional array object, a variety of derived objects (such as masked arrays and matrices), and a collection of routines for fast operations on arrays.\n",
        "\n",
        "2.How does broadcasting work in NumPy?\n",
        "\n",
        ".Broadcasting is a powerful feature in NumPy that allows operations on arrays of different shapes. When performing element-wise operations (like addition, subtraction, or multiplication) on arrays, NumPy automatically adjusts the smaller array’s shape to match the larger array without explicitly copying data.\n",
        "\n",
        "3.What is a Pandas DataFrame?\n",
        "\n",
        ".A Pandas DataFrame is a two-dimensional, size-mutable, and heterogeneous data structure in Python, commonly used for data analysis and manipulation. It is similar to a table or a spreadsheet, with rows and columns. Each column in a DataFrame can have a different data type (e.g., integers, floats, strings, or even other Python objects), making it a versatile structure for handling structured data.\n",
        "\n",
        "4.Explain the use of the groupby() method in Pandas .\n",
        "\n",
        ".The groupby() method in Pandas is used for grouping data based on certain criteria and performing aggregate operations or transformations on those groups. It allows users to split data into groups, apply some computation to each group, and combine the results back into a single DataFrame or Series.\n",
        "\n",
        "5.Why is Seaborn preferred for statistical visualizations?\n",
        "\n",
        ".Seaborn is a popular Python library for statistical data visualization. It is built on top of Matplotlib and provides a high-level interface for creating attractive and informative visualizations. Seaborn is preferred for statistical visualizations due to its ease of use, aesthetics, and powerful capabilities for analyzing and displaying relationships between datasets.\n",
        "\n",
        "6.What are the differences between NumPy arrays and Python lists?\n",
        "\n",
        ".NumPy arrays and Python lists are both used to store collections of data, but they have distinct characteristics and are optimized for different use cases.\n",
        "\n",
        ".Below is a comparison of their key differences:\n",
        "\n",
        ". NumPy Arrays: Require all elements to have the same data type (e.g., all integers or all floats).\n",
        "\n",
        ".Enforces type consistency, making operations faster and more memory-efficient.\n",
        "\n",
        ". Python Lists: Can hold elements of mixed data types (e.g., integers, strings, floats).\n",
        "\n",
        "7.What is a heatmap, and when should it be used?\n",
        "\n",
        ".A heatmap is a data visualization technique that uses a matrix-like structure to represent data values as colors. It is often used to visualize relationships, patterns, or trends in data, where the color intensity indicates the magnitude of the values.\n",
        "\n",
        "8.What does the term “vectorized operation” mean in NumPy?\n",
        "\n",
        ".In NumPy, a vectorized operation refers to performing operations on entire arrays (or vectors) of data without the need for explicit loops. These operations are implemented at a low level in optimized C code, making them highly efficient and faster compared to standard Python loops.\n",
        "\n",
        "9.How does Matplotlib differ from Plotly?\n",
        "\n",
        ".Matplotlib and Plotly are both popular Python libraries for data visualization, but they differ significantly in features, functionality, and use cases.\n",
        "\n",
        ".Matplotlib :\n",
        "\n",
        ".Static Visualizations: Primarily designed for static, publication-quality plots.\n",
        "Customization: Offers extensive control over every aspect of the plot.\n",
        "Mature Library: It has been around since 2003 and is widely used in academia and research.\n",
        "\n",
        ". Plotly:\n",
        "\n",
        ". Interactive Visualizations: Focuses on creating highly interactive and dynamic plots.\n",
        "Web-Based: Designed for web applications, as plots can be displayed in a browser or embedded in web pages.\n",
        "\n",
        "10.What is the significance of hierarchical indexing in Pandas?\n",
        "\n",
        ".Hierarchical indexing (also known as multi-level indexing) is a powerful feature in Pandas that allows you to work with data that has multiple dimensions or levels. It enables you to create a multi-index for rows and columns, making it easier to manage and analyze complex datasets that require a more detailed structure.\n",
        "\n",
        "11.What is the role of Seaborn’s pairplot() function?\n",
        "\n",
        ".The pairplot() function in Seaborn is used for visualizing pairwise relationships in a dataset. It creates a matrix of scatterplots for each pair of numerical variables in a DataFrame, allowing you to explore relationships and correlations between different features. It is a powerful tool for exploratory data analysis (EDA), providing insights into how the variables interact with each other.\n",
        "\n",
        "12.What is the purpose of the describe() function in Pandas?\n",
        "\n",
        ".The describe() function in Pandas is used to generate descriptive statistics of a DataFrame or Series. It provides a quick overview of the distribution and central tendencies of the numerical data in the dataset. This function is an essential tool in exploratory data analysis (EDA), allowing data scientists and analysts to summarize and understand the basic properties of the dataset.\n",
        "\n",
        "13.Why is handling missing data important in Pandas?\n",
        "\n",
        ".Handling missing data is a critical step in the data analysis and preprocessing pipeline. In Pandas, missing data can significantly affect the quality of insights drawn from the dataset, leading to inaccurate analysis or biased results. Properly addressing missing data ensures that the analysis is reliable, consistent, and meaningful.\n",
        "\n",
        "14.What are the benefits of using Plotly for data visualization?\n",
        "\n",
        ".Plotly is a powerful library used for creating interactive and visually appealing data visualizations in Python. It offers several key benefits, making it a popular choice for data analysts, scientists, and developers who require rich, dynamic, and insightful charts. Here are the key benefits of using Plotly for data visualization:\n",
        "\n",
        "15.How does NumPy handle multidimensional arrays?\n",
        "\n",
        ".NumPy is designed to handle multidimensional arrays, making it a powerful tool for numerical and scientific computations. It efficiently handles data in the form of n-dimensional arrays, which can be used to represent matrices, tensors, or any higher-dimensional data structures.\n",
        "\n",
        "16.What is the role of Bokeh in data visualization?\n",
        "\n",
        ".Bokeh is a powerful Python library used for creating interactive and dynamic visualizations for the web. It is particularly suited for creating complex visualizations that are interactive, responsive, and capable of handling large datasets. Bokeh is widely used for building web-based plots and dashboards that can be embedded in web applications.\n",
        "\n",
        "17.Explain the difference between apply() and map() in Pandas?\n",
        "\n",
        ".The apply() and map() functions in Pandas are both used to apply functions to data, but they differ in terms of their functionality, use cases, and flexibility.\n",
        "\n",
        ". apply():\n",
        "\n",
        "Can be used on both DataFrame and Series.\n",
        "Operates on either rows or columns in a DataFrame (using the axis parameter).\n",
        "It can apply functions along rows or columns and is often used for aggregations, transformations, or complex operations.\n",
        "\n",
        ". map():\n",
        "\n",
        "\n",
        "Used only for Series (single-column data).\n",
        "Applies a function element-wise to the Series, meaning it transforms each element individually.\n",
        "It is commonly used for replacing values using a dictionary, Series, or function.\n",
        "\n",
        "18.What are some advanced features of NumPy?\n",
        "\n",
        ".NumPy offers several advanced features that enhance its functionality, allowing it to handle complex numerical operations efficiently.\n",
        "\n",
        ". Below are some of the advanced features of NumPy:\n",
        "\n",
        ".Broadcasting\n",
        "\n",
        ".Vectorization\n",
        "\n",
        ". Stride Tricks\n",
        "\n",
        ".Advanced Indexing\n",
        "\n",
        "19.How does Pandas simplify time series analysis?\n",
        "\n",
        ".Pandas simplifies time series analysis by providing a rich set of tools and functionalities specifically designed for working with time-based data. Time series data typically involves values indexed by time, and Pandas makes it easy to manipulate, analyze, and visualize this type of data with the following features:\n",
        "\n",
        "20.What is the role of a pivot table in Pandas?\n",
        "\n",
        ".In Pandas, a pivot table is a powerful data manipulation tool that allows you to summarize and aggregate data in a structured format. It helps you transform long-form data into a more readable, concise, and easily interpretable table by grouping and performing operations such as aggregation (sum, mean, count, etc.) on specified columns.\n",
        "\n",
        "21.Why is NumPy’s array slicing faster than Python’s list slicing?\n",
        "\n",
        ".NumPy's array slicing is faster than Python's list slicing primarily due to the following reasons:\n",
        "\n",
        ".NumPy Arrays: NumPy arrays are implemented as contiguous blocks of memory. This means that all the elements are stored in a single, continuous memory location. When slicing a NumPy array, it can directly reference the contiguous block of memory rather than copying data, which is much faster\n",
        "\n",
        ".Python Lists: Python lists are arrays of pointers, meaning each element in a list is a reference to a separate object, and these objects can be scattered across memory. Slicing a Python list typically involves creating a new list and copying the references (or values) from the original list, which can be slower than accessing a contiguous block of memory.\n",
        "\n",
        "22.What are some common use cases for Seaborn?\n",
        "\n",
        ".Seaborn is a powerful Python visualization library built on top of Matplotlib that provides a high-level interface for creating attractive and informative statistical graphics.\n",
        "\n",
        ". Seaborn is widely used for exploratory data analysis to understand data distributions, relationships, and patterns.\n",
        "\n",
        ".Distribution plots (e.g., sns.histplot, sns.kdeplot) to visualize the distribution of data and estimate the probability density function.\n",
        "Box plots (e.g., sns.boxplot) to identify outliers and visualize the spread of data across different categories.\n",
        "\n",
        "                         Practical\n",
        "1.How do you create a 2D NumPy array and calculate the sum of each row?\n",
        "\n",
        "\n",
        "\n",
        "\n",
        "\n",
        "\n",
        "\n",
        "\n",
        "\n",
        "\n",
        "\n",
        "\n",
        "\n",
        "\n",
        "\n",
        "\n",
        "\n",
        "\n",
        "\n",
        "\n",
        ".\n",
        "\n",
        "\n",
        "\n",
        "\n",
        "\n",
        "\n",
        "\n",
        "\n",
        "\n",
        "\n",
        "\n",
        "\n",
        "\n",
        "\n",
        "\n",
        "\n",
        "\n"
      ],
      "metadata": {
        "id": "oAlnPo4VBqDS"
      }
    },
    {
      "cell_type": "code",
      "source": [
        "import numpy as np\n",
        "\n",
        "# Step 1: Create a 2D NumPy array\n",
        "array_2d = np.array([[1, 2, 3], [4, 5, 6], [7, 8, 9]])\n",
        "\n",
        "# Step 2: Calculate the sum of each row\n",
        "row_sums = np.sum(array_2d, axis=1)\n",
        "\n",
        "# Display the result\n",
        "print(\"2D Array:\")\n",
        "print(array_2d)\n",
        "\n",
        "print(\"\\nSum of each row:\")\n",
        "print(row_sums)\n"
      ],
      "metadata": {
        "colab": {
          "base_uri": "https://localhost:8080/"
        },
        "id": "QNhNs30XUGru",
        "outputId": "3adcfd41-2f1f-4496-99fe-d0a09ae0f59a"
      },
      "execution_count": 1,
      "outputs": [
        {
          "output_type": "stream",
          "name": "stdout",
          "text": [
            "2D Array:\n",
            "[[1 2 3]\n",
            " [4 5 6]\n",
            " [7 8 9]]\n",
            "\n",
            "Sum of each row:\n",
            "[ 6 15 24]\n"
          ]
        }
      ]
    },
    {
      "cell_type": "markdown",
      "source": [
        "2.Write a Pandas script to find the mean of a specific column in a DataFrame.\n"
      ],
      "metadata": {
        "id": "gdyVB9KIUsWL"
      }
    },
    {
      "cell_type": "code",
      "source": [
        "import pandas as pd\n",
        "\n",
        "# Sample data to create a DataFrame\n",
        "data = {\n",
        "    'Name': ['Alice', 'Bob', 'Charlie', 'David', 'Eva'],\n",
        "    'Age': [25, 30, 35, 40, 45],\n",
        "    'Salary': [50000, 55000, 60000, 65000, 70000]\n",
        "}\n",
        "\n",
        "# Create a DataFrame\n",
        "df = pd.DataFrame(data)\n",
        "\n",
        "# Calculate the mean of a specific column (e.g., 'Age')\n",
        "mean_age = df['Age'].mean()\n",
        "\n",
        "# Display the result\n",
        "print(f\"Mean Age: {mean_age}\")\n"
      ],
      "metadata": {
        "colab": {
          "base_uri": "https://localhost:8080/"
        },
        "id": "BJNOqsleSu7I",
        "outputId": "c9ab059f-326d-4fed-cf88-5844a6d023f0"
      },
      "execution_count": 2,
      "outputs": [
        {
          "output_type": "stream",
          "name": "stdout",
          "text": [
            "Mean Age: 35.0\n"
          ]
        }
      ]
    },
    {
      "cell_type": "markdown",
      "source": [
        "3.Create a scatter plot using Matplotlib.\n"
      ],
      "metadata": {
        "id": "2b_CXm6iZcXs"
      }
    },
    {
      "cell_type": "code",
      "source": [
        "import matplotlib.pyplot as plt\n",
        "\n",
        "# Sample data for the scatter plot\n",
        "x = [10, 20, 30, 40, 50]\n",
        "y = [5, 15, 25, 35, 45]\n",
        "\n",
        "# Create the scatter plot\n",
        "plt.scatter(x, y, color='blue', marker='o', label='Data Points')\n",
        "\n",
        "# Add labels and title\n",
        "plt.xlabel('X-axis Label')\n",
        "plt.ylabel('Y-axis Label')\n",
        "plt.title('Sample Scatter Plot')\n",
        "\n",
        "# Add a legend\n",
        "plt.legend()\n",
        "\n",
        "# Show the plot\n",
        "plt.show()\n"
      ],
      "metadata": {
        "colab": {
          "base_uri": "https://localhost:8080/",
          "height": 472
        },
        "id": "US6raH3-Sj6W",
        "outputId": "7359934b-7d07-4b78-c35b-5af106b8026c"
      },
      "execution_count": 3,
      "outputs": [
        {
          "output_type": "display_data",
          "data": {
            "text/plain": [
              "<Figure size 640x480 with 1 Axes>"
            ],
            "image/png": "[encoded data removed]"
          },
          "metadata": {}
        }
      ]
    },
    {
      "cell_type": "markdown",
      "source": [
        "4. How do you calculate the correlation matrix using Seaborn and visualize it with a heatmap ?\n",
        "\n"
      ],
      "metadata": {
        "id": "68sCTn1GaC3U"
      }
    },
    {
      "cell_type": "code",
      "source": [
        "import pandas as pd\n",
        "import seaborn as sns\n",
        "import matplotlib.pyplot as plt\n",
        "\n",
        "# Sample dataset\n",
        "data = {\n",
        "    'Age': [25, 30, 35, 40, 45],\n",
        "    'Salary': [50000, 55000, 60000, 65000, 70000],\n",
        "    'Experience': [1, 3, 5, 7, 9]\n",
        "}\n",
        "\n",
        "# Create a DataFrame\n",
        "df = pd.DataFrame(data)\n",
        "\n",
        "# Step 1: Calculate the correlation matrix\n",
        "correlation_matrix = df.corr()\n",
        "\n",
        "# Step 2: Visualize the correlation matrix with a heatmap\n",
        "plt.figure(figsize=(8, 6))\n",
        "sns.heatmap(correlation_matrix, annot=True, cmap='coolwarm', fmt='.2f', linewidths=0.5)\n",
        "\n",
        "# Add title and labels\n",
        "plt.title('Correlation Matrix Heatmap')\n",
        "plt.show()\n"
      ],
      "metadata": {
        "id": "te2olWU7ZuQc",
        "outputId": "52c7b3ab-22c5-4689-90ff-6c7c661ca92f",
        "colab": {
          "base_uri": "https://localhost:8080/",
          "height": 545
        }
      },
      "execution_count": 4,
      "outputs": [
        {
          "output_type": "display_data",
          "data": {
            "text/plain": [
              "<Figure size 800x600 with 2 Axes>"
            ],
            "image/png": "[encoded data removed]"
          },
          "metadata": {}
        }
      ]
    },
    {
      "cell_type": "markdown",
      "source": [
        "5.Generate a bar plot using Plotly?\n"
      ],
      "metadata": {
        "id": "s4T-FC1bchEV"
      }
    },
    {
      "cell_type": "code",
      "source": [
        "import plotly.graph_objects as go\n",
        "\n",
        "# Sample data for the bar plot\n",
        "categories = ['A', 'B', 'C', 'D', 'E']\n",
        "values = [10, 15, 7, 25, 18]\n",
        "\n",
        "# Create the bar plot\n",
        "fig = go.Figure(data=go.Bar(\n",
        "    x=categories,  # Categories for the x-axis\n",
        "    y=values,      # Values for the y-axis\n",
        "    text=values,   # Display values on the bars\n",
        "    textposition='auto'  # Automatically position text\n",
        "))\n",
        "\n",
        "# Add title and labels\n",
        "fig.update_layout(\n",
        "    title='Sample Bar Plot',\n",
        "    xaxis_title='Categories',\n",
        "    yaxis_title='Values',\n",
        "    template='plotly'  # Optional: use a built-in template\n",
        ")\n",
        "\n",
        "# Show the plot\n",
        "fig.show()\n"
      ],
      "metadata": {
        "id": "lTK-n3xNbv2R",
        "outputId": "800efa91-1943-4527-845b-4a90de479a29",
        "colab": {
          "base_uri": "https://localhost:8080/",
          "height": 542
        }
      },
      "execution_count": 5,
      "outputs": [
        {
          "output_type": "display_data",
          "data": {
            "text/html": [
              "<html>\n",
              "<head><meta charset=\"utf-8\" /></head>\n",
              "<body>\n",
              "    <div>            <script src=\"https://cdnjs.cloudflare.com/ajax/libs/mathjax/2.7.5/MathJax.js?config=TeX-AMS-MML_SVG\"></script><script type=\"text/javascript\">if (window.MathJax && window.MathJax.Hub && window.MathJax.Hub.Config) {window.MathJax.Hub.Config({SVG: {font: \"STIX-Web\"}});}</script>                <script type=\"text/javascript\">window.PlotlyConfig = {MathJaxConfig: 'local'};</script>\n",
              "        <script charset=\"utf-8\" src=\"https://cdn.plot.ly/plotly-2.35.2.min.js\"></script>                <div id=\"0ab5676b-9f19-471e-8714-995bf3633db7\" class=\"plotly-graph-div\" style=\"height:525px; width:100%;\"></div>            <script type=\"text/javascript\">                                    window.PLOTLYENV=window.PLOTLYENV || {};                                    if (document.getElementById(\"0ab5676b-9f19-471e-8714-995bf3633db7\")) {                    Plotly.newPlot(                        \"0ab5676b-9f19-471e-8714-995bf3633db7\",                        [{\"text\":[\"10\",\"15\",\"7\",\"25\",\"18\"],\"textposition\":\"auto\",\"x\":[\"A\",\"B\",\"C\",\"D\",\"E\"],\"y\":[10,15,7,25,18],\"type\":\"bar\"}],                        {\"template\":{\"data\":{\"histogram2dcontour\":[{\"type\":\"histogram2dcontour\",\"colorbar\":{\"outlinewidth\":0,\"ticks\":\"\"},\"colorscale\":[[0.0,\"#0d0887\"],[0.1111111111111111,\"#46039f\"],[0.2222222222222222,\"#7201a8\"],[0.3333333333333333,\"#9c179e\"],[0.4444444444444444,\"#bd3786\"],[0.5555555555555556,\"#d8576b\"],[0.6666666666666666,\"#ed7953\"],[0.7777777777777778,\"#fb9f3a\"],[0.8888888888888888,\"#fdca26\"],[1.0,\"#f0f921\"]]}],\"choropleth\":[{\"type\":\"choropleth\",\"colorbar\":{\"outlinewidth\":0,\"ticks\":\"\"}}],\"histogram2d\":[{\"type\":\"histogram2d\",\"colorbar\":{\"outlinewidth\":0,\"ticks\":\"\"},\"colorscale\":[[0.0,\"#0d0887\"],[0.1111111111111111,\"#46039f\"],[0.2222222222222222,\"#7201a8\"],[0.3333333333333333,\"#9c179e\"],[0.4444444444444444,\"#bd3786\"],[0.5555555555555556,\"#d8576b\"],[0.6666666666666666,\"#ed7953\"],[0.7777777777777778,\"#fb9f3a\"],[0.8888888888888888,\"#fdca26\"],[1.0,\"#f0f921\"]]}],\"heatmap\":[{\"type\":\"heatmap\",\"colorbar\":{\"outlinewidth\":0,\"ticks\":\"\"},\"colorscale\":[[0.0,\"#0d0887\"],[0.1111111111111111,\"#46039f\"],[0.2222222222222222,\"#7201a8\"],[0.3333333333333333,\"#9c179e\"],[0.4444444444444444,\"#bd3786\"],[0.5555555555555556,\"#d8576b\"],[0.6666666666666666,\"#ed7953\"],[0.7777777777777778,\"#fb9f3a\"],[0.8888888888888888,\"#fdca26\"],[1.0,\"#f0f921\"]]}],\"heatmapgl\":[{\"type\":\"heatmapgl\",\"colorbar\":{\"outlinewidth\":0,\"ticks\":\"\"},\"colorscale\":[[0.0,\"#0d0887\"],[0.1111111111111111,\"#46039f\"],[0.2222222222222222,\"#7201a8\"],[0.3333333333333333,\"#9c179e\"],[0.4444444444444444,\"#bd3786\"],[0.5555555555555556,\"#d8576b\"],[0.6666666666666666,\"#ed7953\"],[0.7777777777777778,\"#fb9f3a\"],[0.8888888888888888,\"#fdca26\"],[1.0,\"#f0f921\"]]}],\"contourcarpet\":[{\"type\":\"contourcarpet\",\"colorbar\":{\"outlinewidth\":0,\"ticks\":\"\"}}],\"contour\":[{\"type\":\"contour\",\"colorbar\":{\"outlinewidth\":0,\"ticks\":\"\"},\"colorscale\":[[0.0,\"#0d0887\"],[0.1111111111111111,\"#46039f\"],[0.2222222222222222,\"#7201a8\"],[0.3333333333333333,\"#9c179e\"],[0.4444444444444444,\"#bd3786\"],[0.5555555555555556,\"#d8576b\"],[0.6666666666666666,\"#ed7953\"],[0.7777777777777778,\"#fb9f3a\"],[0.8888888888888888,\"#fdca26\"],[1.0,\"#f0f921\"]]}],\"surface\":[{\"type\":\"surface\",\"colorbar\":{\"outlinewidth\":0,\"ticks\":\"\"},\"colorscale\":[[0.0,\"#0d0887\"],[0.1111111111111111,\"#46039f\"],[0.2222222222222222,\"#7201a8\"],[0.3333333333333333,\"#9c179e\"],[0.4444444444444444,\"#bd3786\"],[0.5555555555555556,\"#d8576b\"],[0.6666666666666666,\"#ed7953\"],[0.7777777777777778,\"#fb9f3a\"],[0.8888888888888888,\"#fdca26\"],[1.0,\"#f0f921\"]]}],\"mesh3d\":[{\"type\":\"mesh3d\",\"colorbar\":{\"outlinewidth\":0,\"ticks\":\"\"}}],\"scatter\":[{\"fillpattern\":{\"fillmode\":\"overlay\",\"size\":10,\"solidity\":0.2},\"type\":\"scatter\"}],\"parcoords\":[{\"type\":\"parcoords\",\"line\":{\"colorbar\":{\"outlinewidth\":0,\"ticks\":\"\"}}}],\"scatterpolargl\":[{\"type\":\"scatterpolargl\",\"marker\":{\"colorbar\":{\"outlinewidth\":0,\"ticks\":\"\"}}}],\"bar\":[{\"error_x\":{\"color\":\"#2a3f5f\"},\"error_y\":{\"color\":\"#2a3f5f\"},\"marker\":{\"line\":{\"color\":\"#E5ECF6\",\"width\":0.5},\"pattern\":{\"fillmode\":\"overlay\",\"size\":10,\"solidity\":0.2}},\"type\":\"bar\"}],\"scattergeo\":[{\"type\":\"scattergeo\",\"marker\":{\"colorbar\":{\"outlinewidth\":0,\"ticks\":\"\"}}}],\"scatterpolar\":[{\"type\":\"scatterpolar\",\"marker\":{\"colorbar\":{\"outlinewidth\":0,\"ticks\":\"\"}}}],\"histogram\":[{\"marker\":{\"pattern\":{\"fillmode\":\"overlay\",\"size\":10,\"solidity\":0.2}},\"type\":\"histogram\"}],\"scattergl\":[{\"type\":\"scattergl\",\"marker\":{\"colorbar\":{\"outlinewidth\":0,\"ticks\":\"\"}}}],\"scatter3d\":[{\"type\":\"scatter3d\",\"line\":{\"colorbar\":{\"outlinewidth\":0,\"ticks\":\"\"}},\"marker\":{\"colorbar\":{\"outlinewidth\":0,\"ticks\":\"\"}}}],\"scattermapbox\":[{\"type\":\"scattermapbox\",\"marker\":{\"colorbar\":{\"outlinewidth\":0,\"ticks\":\"\"}}}],\"scatterternary\":[{\"type\":\"scatterternary\",\"marker\":{\"colorbar\":{\"outlinewidth\":0,\"ticks\":\"\"}}}],\"scattercarpet\":[{\"type\":\"scattercarpet\",\"marker\":{\"colorbar\":{\"outlinewidth\":0,\"ticks\":\"\"}}}],\"carpet\":[{\"aaxis\":{\"endlinecolor\":\"#2a3f5f\",\"gridcolor\":\"white\",\"linecolor\":\"white\",\"minorgridcolor\":\"white\",\"startlinecolor\":\"#2a3f5f\"},\"baxis\":{\"endlinecolor\":\"#2a3f5f\",\"gridcolor\":\"white\",\"linecolor\":\"white\",\"minorgridcolor\":\"white\",\"startlinecolor\":\"#2a3f5f\"},\"type\":\"carpet\"}],\"table\":[{\"cells\":{\"fill\":{\"color\":\"#EBF0F8\"},\"line\":{\"color\":\"white\"}},\"header\":{\"fill\":{\"color\":\"#C8D4E3\"},\"line\":{\"color\":\"white\"}},\"type\":\"table\"}],\"barpolar\":[{\"marker\":{\"line\":{\"color\":\"#E5ECF6\",\"width\":0.5},\"pattern\":{\"fillmode\":\"overlay\",\"size\":10,\"solidity\":0.2}},\"type\":\"barpolar\"}],\"pie\":[{\"automargin\":true,\"type\":\"pie\"}]},\"layout\":{\"autotypenumbers\":\"strict\",\"colorway\":[\"#636efa\",\"#EF553B\",\"#00cc96\",\"#ab63fa\",\"#FFA15A\",\"#19d3f3\",\"#FF6692\",\"#B6E880\",\"#FF97FF\",\"#FECB52\"],\"font\":{\"color\":\"#2a3f5f\"},\"hovermode\":\"closest\",\"hoverlabel\":{\"align\":\"left\"},\"paper_bgcolor\":\"white\",\"plot_bgcolor\":\"#E5ECF6\",\"polar\":{\"bgcolor\":\"#E5ECF6\",\"angularaxis\":{\"gridcolor\":\"white\",\"linecolor\":\"white\",\"ticks\":\"\"},\"radialaxis\":{\"gridcolor\":\"white\",\"linecolor\":\"white\",\"ticks\":\"\"}},\"ternary\":{\"bgcolor\":\"#E5ECF6\",\"aaxis\":{\"gridcolor\":\"white\",\"linecolor\":\"white\",\"ticks\":\"\"},\"baxis\":{\"gridcolor\":\"white\",\"linecolor\":\"white\",\"ticks\":\"\"},\"caxis\":{\"gridcolor\":\"white\",\"linecolor\":\"white\",\"ticks\":\"\"}},\"coloraxis\":{\"colorbar\":{\"outlinewidth\":0,\"ticks\":\"\"}},\"colorscale\":{\"sequential\":[[0.0,\"#0d0887\"],[0.1111111111111111,\"#46039f\"],[0.2222222222222222,\"#7201a8\"],[0.3333333333333333,\"#9c179e\"],[0.4444444444444444,\"#bd3786\"],[0.5555555555555556,\"#d8576b\"],[0.6666666666666666,\"#ed7953\"],[0.7777777777777778,\"#fb9f3a\"],[0.8888888888888888,\"#fdca26\"],[1.0,\"#f0f921\"]],\"sequentialminus\":[[0.0,\"#0d0887\"],[0.1111111111111111,\"#46039f\"],[0.2222222222222222,\"#7201a8\"],[0.3333333333333333,\"#9c179e\"],[0.4444444444444444,\"#bd3786\"],[0.5555555555555556,\"#d8576b\"],[0.6666666666666666,\"#ed7953\"],[0.7777777777777778,\"#fb9f3a\"],[0.8888888888888888,\"#fdca26\"],[1.0,\"#f0f921\"]],\"diverging\":[[0,\"#8e0152\"],[0.1,\"#c51b7d\"],[0.2,\"#de77ae\"],[0.3,\"#f1b6da\"],[0.4,\"#fde0ef\"],[0.5,\"#f7f7f7\"],[0.6,\"#e6f5d0\"],[0.7,\"#b8e186\"],[0.8,\"#7fbc41\"],[0.9,\"#4d9221\"],[1,\"#276419\"]]},\"xaxis\":{\"gridcolor\":\"white\",\"linecolor\":\"white\",\"ticks\":\"\",\"title\":{\"standoff\":15},\"zerolinecolor\":\"white\",\"automargin\":true,\"zerolinewidth\":2},\"yaxis\":{\"gridcolor\":\"white\",\"linecolor\":\"white\",\"ticks\":\"\",\"title\":{\"standoff\":15},\"zerolinecolor\":\"white\",\"automargin\":true,\"zerolinewidth\":2},\"scene\":{\"xaxis\":{\"backgroundcolor\":\"#E5ECF6\",\"gridcolor\":\"white\",\"linecolor\":\"white\",\"showbackground\":true,\"ticks\":\"\",\"zerolinecolor\":\"white\",\"gridwidth\":2},\"yaxis\":{\"backgroundcolor\":\"#E5ECF6\",\"gridcolor\":\"white\",\"linecolor\":\"white\",\"showbackground\":true,\"ticks\":\"\",\"zerolinecolor\":\"white\",\"gridwidth\":2},\"zaxis\":{\"backgroundcolor\":\"#E5ECF6\",\"gridcolor\":\"white\",\"linecolor\":\"white\",\"showbackground\":true,\"ticks\":\"\",\"zerolinecolor\":\"white\",\"gridwidth\":2}},\"shapedefaults\":{\"line\":{\"color\":\"#2a3f5f\"}},\"annotationdefaults\":{\"arrowcolor\":\"#2a3f5f\",\"arrowhead\":0,\"arrowwidth\":1},\"geo\":{\"bgcolor\":\"white\",\"landcolor\":\"#E5ECF6\",\"subunitcolor\":\"white\",\"showland\":true,\"showlakes\":true,\"lakecolor\":\"white\"},\"title\":{\"x\":0.05},\"mapbox\":{\"style\":\"light\"}}},\"title\":{\"text\":\"Sample Bar Plot\"},\"xaxis\":{\"title\":{\"text\":\"Categories\"}},\"yaxis\":{\"title\":{\"text\":\"Values\"}}},                        {\"responsive\": true}                    ).then(function(){\n",
              "                            \n",
              "var gd = document.getElementById('0ab5676b-9f19-471e-8714-995bf3633db7');\n",
              "var x = new MutationObserver(function (mutations, observer) {{\n",
              "        var display = window.getComputedStyle(gd).display;\n",
              "        if (!display || display === 'none') {{\n",
              "            console.log([gd, 'removed!']);\n",
              "            Plotly.purge(gd);\n",
              "            observer.disconnect();\n",
              "        }}\n",
              "}});\n",
              "\n",
              "// Listen for the removal of the full notebook cells\n",
              "var notebookContainer = gd.closest('#notebook-container');\n",
              "if (notebookContainer) {{\n",
              "    x.observe(notebookContainer, {childList: true});\n",
              "}}\n",
              "\n",
              "// Listen for the clearing of the current output cell\n",
              "var outputEl = gd.closest('.output');\n",
              "if (outputEl) {{\n",
              "    x.observe(outputEl, {childList: true});\n",
              "}}\n",
              "\n",
              "                        })                };                            </script>        </div>\n",
              "</body>\n",
              "</html>"
            ]
          },
          "metadata": {}
        }
      ]
    },
    {
      "cell_type": "markdown",
      "source": [
        "6. Create a DataFrame and add a new column based on an existing column.\n"
      ],
      "metadata": {
        "id": "Ay4d5XH7dIhG"
      }
    },
    {
      "cell_type": "code",
      "source": [
        "import pandas as pd\n",
        "\n",
        "# Step 1: Create a DataFrame\n",
        "data = {\n",
        "    'Name': ['Alice', 'Bob', 'Charlie', 'David', 'Eva'],\n",
        "    'Age': [25, 30, 35, 40, 45]\n",
        "}\n",
        "df = pd.DataFrame(data)\n",
        "\n",
        "# Step 2: Add a new column based on the 'Age' column\n",
        "df['Age Group'] = df['Age'].apply(lambda age: 'Young' if age < 35 else 'Senior')\n",
        "\n",
        "# Display the updated DataFrame\n",
        "print(df)\n"
      ],
      "metadata": {
        "id": "kjq0Iw9Wc916",
        "outputId": "49a52275-c736-4352-b68a-5e6c169abc49",
        "colab": {
          "base_uri": "https://localhost:8080/"
        }
      },
      "execution_count": 6,
      "outputs": [
        {
          "output_type": "stream",
          "name": "stdout",
          "text": [
            "      Name  Age Age Group\n",
            "0    Alice   25     Young\n",
            "1      Bob   30     Young\n",
            "2  Charlie   35    Senior\n",
            "3    David   40    Senior\n",
            "4      Eva   45    Senior\n"
          ]
        }
      ]
    },
    {
      "cell_type": "code",
      "source": [],
      "metadata": {
        "id": "BU21xGOudgSF"
      },
      "execution_count": null,
      "outputs": []
    },
    {
      "cell_type": "markdown",
      "source": [
        "7.Write a program to perform element-wise multiplication of two NumPy arrays.\n"
      ],
      "metadata": {
        "id": "0ChN5dnbdijM"
      }
    },
    {
      "cell_type": "code",
      "source": [
        "import numpy as np\n",
        "\n",
        "# Define two NumPy arrays\n",
        "array1 = np.array([1, 2, 3, 4, 5])\n",
        "array2 = np.array([5, 4, 3, 2, 1])\n",
        "\n",
        "# Perform element-wise multiplication\n",
        "result = array1 * array2\n",
        "\n",
        "# Display the result\n",
        "print(\"Array 1:\", array1)\n",
        "print(\"Array 2:\", array2)\n",
        "print(\"Element-wise Multiplication:\", result)\n"
      ],
      "metadata": {
        "id": "12JmOCHBd67h",
        "outputId": "242194cc-9bdc-417a-a16f-74479a528c4b",
        "colab": {
          "base_uri": "https://localhost:8080/"
        }
      },
      "execution_count": 7,
      "outputs": [
        {
          "output_type": "stream",
          "name": "stdout",
          "text": [
            "Array 1: [1 2 3 4 5]\n",
            "Array 2: [5 4 3 2 1]\n",
            "Element-wise Multiplication: [5 8 9 8 5]\n"
          ]
        }
      ]
    },
    {
      "cell_type": "markdown",
      "source": [
        "8.Create a line plot with multiple lines using Matplotlib.\n"
      ],
      "metadata": {
        "id": "GyodAiu5d9-A"
      }
    },
    {
      "cell_type": "code",
      "source": [
        "import matplotlib.pyplot as plt\n",
        "\n",
        "# Data for multiple lines\n",
        "x = [0, 1, 2, 3, 4, 5]\n",
        "y1 = [0, 1, 4, 9, 16, 25]  # Line 1 (y = x^2)\n",
        "y2 = [0, 2, 8, 18, 32, 50] # Line 2 (y = 2x^2)\n",
        "\n",
        "# Create the plot\n",
        "plt.figure(figsize=(8, 6))\n",
        "\n",
        "# Plot the lines\n",
        "plt.plot(x, y1, label='y = x²', color='blue', linestyle='-', marker='o')\n",
        "plt.plot(x, y2, label='y = 2x²', color='green', linestyle='--', marker='s')\n",
        "\n",
        "# Add labels, title, and legend\n",
        "plt.xlabel('X-axis')\n",
        "plt.ylabel('Y-axis')\n",
        "plt.title('Line Plot with Multiple Lines')\n",
        "plt.legend()\n",
        "\n",
        "# Display grid\n",
        "plt.grid(True)\n",
        "\n",
        "# Show the plot\n",
        "plt.show()\n"
      ],
      "metadata": {
        "id": "XtJ76xPBd8Nk",
        "outputId": "17962688-b180-4a07-bc88-da9a42084104",
        "colab": {
          "base_uri": "https://localhost:8080/",
          "height": 564
        }
      },
      "execution_count": 8,
      "outputs": [
        {
          "output_type": "display_data",
          "data": {
            "text/plain": [
              "<Figure size 800x600 with 1 Axes>"
            ],
            "image/png": "[encoded data removed]"
          },
          "metadata": {}
        }
      ]
    },
    {
      "cell_type": "markdown",
      "source": [
        "9.Generate a Pandas DataFrame and filter rows where a column value is greater than a threshold.\n"
      ],
      "metadata": {
        "id": "6d6PRc2SejZY"
      }
    },
    {
      "cell_type": "code",
      "source": [
        "import pandas as pd\n",
        "\n",
        "# Step 1: Create a DataFrame\n",
        "data = {\n",
        "    'Name': ['Alice', 'Bob', 'Charlie', 'David', 'Eva'],\n",
        "    'Age': [25, 30, 35, 40, 45],\n",
        "    'Score': [85, 90, 75, 60, 95]\n",
        "}\n",
        "df = pd.DataFrame(data)\n",
        "\n",
        "# Step 2: Filter rows where 'Score' is greater than 80\n",
        "filtered_df = df[df['Score'] > 80]\n",
        "\n",
        "# Display the original and filtered DataFrame\n",
        "print(\"Original DataFrame:\")\n",
        "print(df)\n",
        "print(\"\\nFiltered DataFrame (Score > 80):\")\n",
        "print(filtered_df)\n"
      ],
      "metadata": {
        "id": "PhbpEQGtee70",
        "outputId": "93a7f924-1566-478e-bb5c-213262d934b9",
        "colab": {
          "base_uri": "https://localhost:8080/"
        }
      },
      "execution_count": 9,
      "outputs": [
        {
          "output_type": "stream",
          "name": "stdout",
          "text": [
            "Original DataFrame:\n",
            "      Name  Age  Score\n",
            "0    Alice   25     85\n",
            "1      Bob   30     90\n",
            "2  Charlie   35     75\n",
            "3    David   40     60\n",
            "4      Eva   45     95\n",
            "\n",
            "Filtered DataFrame (Score > 80):\n",
            "    Name  Age  Score\n",
            "0  Alice   25     85\n",
            "1    Bob   30     90\n",
            "4    Eva   45     95\n"
          ]
        }
      ]
    },
    {
      "cell_type": "markdown",
      "source": [
        "10. Create a histogram using Seaborn to visualize a distribution.\n"
      ],
      "metadata": {
        "id": "4NdbErQFeiFq"
      }
    },
    {
      "cell_type": "code",
      "source": [
        "import seaborn as sns\n",
        "import matplotlib.pyplot as plt\n",
        "import numpy as np\n",
        "\n",
        "# Generate sample data\n",
        "data = np.random.normal(loc=50, scale=10, size=1000)  # Mean=50, StdDev=10, 1000 samples\n",
        "\n",
        "# Create a histogram\n",
        "sns.histplot(data, bins=20, kde=True, color='blue')\n",
        "\n",
        "# Add title and labels\n",
        "plt.title('Distribution of Data')\n",
        "plt.xlabel('Value')\n",
        "plt.ylabel('Frequency')\n",
        "\n",
        "# Display the plot\n",
        "plt.show()\n"
      ],
      "metadata": {
        "id": "Hot5fbAifUNG",
        "outputId": "81b6a370-8d9d-4709-a7ed-cd4cb986033a",
        "colab": {
          "base_uri": "https://localhost:8080/",
          "height": 472
        }
      },
      "execution_count": 10,
      "outputs": [
        {
          "output_type": "display_data",
          "data": {
            "text/plain": [
              "<Figure size 640x480 with 1 Axes>"
            ],
            "image/png": "[encoded data removed]"
          },
          "metadata": {}
        }
      ]
    },
    {
      "cell_type": "markdown",
      "source": [
        "11.Perform matrix multiplication using NumPy .\n"
      ],
      "metadata": {
        "id": "bDuVMDoWfvkP"
      }
    },
    {
      "cell_type": "code",
      "source": [
        "import numpy as np\n",
        "\n",
        "# Define two matrices\n",
        "matrix1 = np.array([[1, 2],\n",
        "                    [3, 4]])\n",
        "matrix2 = np.array([[5, 6],\n",
        "                    [7, 8]])\n",
        "\n",
        "# Perform matrix multiplication\n",
        "result = np.dot(matrix1, matrix2)\n",
        "\n",
        "# Display the matrices and the result\n",
        "print(\"Matrix 1:\")\n",
        "print(matrix1)\n",
        "print(\"\\nMatrix 2:\")\n",
        "print(matrix2)\n",
        "print(\"\\nMatrix Multiplication Result:\")\n",
        "print(result)\n"
      ],
      "metadata": {
        "id": "-aPzeYFNfr8Y",
        "outputId": "173ff500-afd7-4629-e42d-6c21fd864747",
        "colab": {
          "base_uri": "https://localhost:8080/"
        }
      },
      "execution_count": 11,
      "outputs": [
        {
          "output_type": "stream",
          "name": "stdout",
          "text": [
            "Matrix 1:\n",
            "[[1 2]\n",
            " [3 4]]\n",
            "\n",
            "Matrix 2:\n",
            "[[5 6]\n",
            " [7 8]]\n",
            "\n",
            "Matrix Multiplication Result:\n",
            "[[19 22]\n",
            " [43 50]]\n"
          ]
        }
      ]
    },
    {
      "cell_type": "markdown",
      "source": [
        "12.Use Pandas to load a CSV file and display its first 5 rows.\n"
      ],
      "metadata": {
        "id": "9gp9G-0RgDNy"
      }
    },
    {
      "cell_type": "code",
      "source": [
        "import pandas as pd\n",
        "\n",
        "# Load the CSV file into a DataFrame\n",
        "df = pd.read_csv('path_to_your_file.csv')  # Replace with your file path\n",
        "\n",
        "# Display the first 5 rows\n",
        "print(df.head())\n",
        "\n"
      ],
      "metadata": {
        "id": "jdvz_xgVgfNJ"
      },
      "execution_count": null,
      "outputs": []
    },
    {
      "cell_type": "markdown",
      "source": [
        "13.Create a 3D scatter plot using Plotly.\n"
      ],
      "metadata": {
        "id": "cjnrDVeVgztQ"
      }
    },
    {
      "cell_type": "code",
      "source": [
        "import plotly.graph_objects as go\n",
        "import numpy as np\n",
        "\n",
        "# Generate sample data\n",
        "np.random.seed(42)\n",
        "x = np.random.randint(0, 100, 50)\n",
        "y = np.random.randint(0, 100, 50)\n",
        "z = np.random.randint(0, 100, 50)\n",
        "\n",
        "# Create a 3D scatter plot\n",
        "fig = go.Figure(data=[go.Scatter3d(\n",
        "    x=x,\n",
        "    y=y,\n",
        "    z=z,\n",
        "    mode='markers',\n",
        "    marker=dict(\n",
        "        size=5,\n",
        "        color=z,  # Set color based on z values\n",
        "        colorscale='Viridis',  # Color scale\n",
        "        opacity=0.8\n",
        "    )\n",
        ")])\n",
        "\n",
        "# Customize layout\n",
        "fig.update_layout(\n",
        "    title='3D Scatter Plot',\n",
        "    scene=dict(\n",
        "        xaxis_title='X Axis',\n",
        "        yaxis_title='Y Axis',\n",
        "        zaxis_title='Z Axis'\n",
        "    )\n",
        ")\n",
        "\n",
        "# Show the plot\n",
        "fig.show()\n"
      ],
      "metadata": {
        "id": "Ogy72bEfhQTg",
        "outputId": "38cdc803-7b38-4bdb-e0c7-33cb260fcd76",
        "colab": {
          "base_uri": "https://localhost:8080/",
          "height": 542
        }
      },
      "execution_count": 15,
      "outputs": [
        {
          "output_type": "display_data",
          "data": {
            "text/html": [
              "<html>\n",
              "<head><meta charset=\"utf-8\" /></head>\n",
              "<body>\n",
              "    <div>            <script src=\"https://cdnjs.cloudflare.com/ajax/libs/mathjax/2.7.5/MathJax.js?config=TeX-AMS-MML_SVG\"></script><script type=\"text/javascript\">if (window.MathJax && window.MathJax.Hub && window.MathJax.Hub.Config) {window.MathJax.Hub.Config({SVG: {font: \"STIX-Web\"}});}</script>                <script type=\"text/javascript\">window.PlotlyConfig = {MathJaxConfig: 'local'};</script>\n",
              "        <script charset=\"utf-8\" src=\"https://cdn.plot.ly/plotly-2.35.2.min.js\"></script>                <div id=\"9a37cb6c-f3ba-4161-bac4-47a706eb36f5\" class=\"plotly-graph-div\" style=\"height:525px; width:100%;\"></div>            <script type=\"text/javascript\">                                    window.PLOTLYENV=window.PLOTLYENV || {};                                    if (document.getElementById(\"9a37cb6c-f3ba-4161-bac4-47a706eb36f5\")) {                    Plotly.newPlot(                        \"9a37cb6c-f3ba-4161-bac4-47a706eb36f5\",                        [{\"marker\":{\"color\":[25,88,59,40,28,14,44,64,88,70,8,87,0,7,87,62,10,80,7,34,34,32,4,40,27,6,72,71,11,33,32,47,22,61,87,36,98,43,85,90,34,64,98,46,77,2,0,4,89,13],\"colorscale\":[[0.0,\"#440154\"],[0.1111111111111111,\"#482878\"],[0.2222222222222222,\"#3e4989\"],[0.3333333333333333,\"#31688e\"],[0.4444444444444444,\"#26828e\"],[0.5555555555555556,\"#1f9e89\"],[0.6666666666666666,\"#35b779\"],[0.7777777777777778,\"#6ece58\"],[0.8888888888888888,\"#b5de2b\"],[1.0,\"#fde725\"]],\"opacity\":0.8,\"size\":5},\"mode\":\"markers\",\"x\":[51,92,14,71,60,20,82,86,74,74,87,99,23,2,21,52,1,87,29,37,1,63,59,20,32,75,57,21,88,48,90,58,41,91,59,79,14,61,61,46,61,50,54,63,2,50,6,20,72,38],\"y\":[17,3,88,59,13,8,89,52,1,83,91,59,70,43,7,46,34,77,80,35,49,3,1,5,53,3,53,92,62,17,89,43,33,73,61,99,13,94,47,14,71,77,86,61,39,84,79,81,52,23],\"z\":[25,88,59,40,28,14,44,64,88,70,8,87,0,7,87,62,10,80,7,34,34,32,4,40,27,6,72,71,11,33,32,47,22,61,87,36,98,43,85,90,34,64,98,46,77,2,0,4,89,13],\"type\":\"scatter3d\"}],                        {\"template\":{\"data\":{\"histogram2dcontour\":[{\"type\":\"histogram2dcontour\",\"colorbar\":{\"outlinewidth\":0,\"ticks\":\"\"},\"colorscale\":[[0.0,\"#0d0887\"],[0.1111111111111111,\"#46039f\"],[0.2222222222222222,\"#7201a8\"],[0.3333333333333333,\"#9c179e\"],[0.4444444444444444,\"#bd3786\"],[0.5555555555555556,\"#d8576b\"],[0.6666666666666666,\"#ed7953\"],[0.7777777777777778,\"#fb9f3a\"],[0.8888888888888888,\"#fdca26\"],[1.0,\"#f0f921\"]]}],\"choropleth\":[{\"type\":\"choropleth\",\"colorbar\":{\"outlinewidth\":0,\"ticks\":\"\"}}],\"histogram2d\":[{\"type\":\"histogram2d\",\"colorbar\":{\"outlinewidth\":0,\"ticks\":\"\"},\"colorscale\":[[0.0,\"#0d0887\"],[0.1111111111111111,\"#46039f\"],[0.2222222222222222,\"#7201a8\"],[0.3333333333333333,\"#9c179e\"],[0.4444444444444444,\"#bd3786\"],[0.5555555555555556,\"#d8576b\"],[0.6666666666666666,\"#ed7953\"],[0.7777777777777778,\"#fb9f3a\"],[0.8888888888888888,\"#fdca26\"],[1.0,\"#f0f921\"]]}],\"heatmap\":[{\"type\":\"heatmap\",\"colorbar\":{\"outlinewidth\":0,\"ticks\":\"\"},\"colorscale\":[[0.0,\"#0d0887\"],[0.1111111111111111,\"#46039f\"],[0.2222222222222222,\"#7201a8\"],[0.3333333333333333,\"#9c179e\"],[0.4444444444444444,\"#bd3786\"],[0.5555555555555556,\"#d8576b\"],[0.6666666666666666,\"#ed7953\"],[0.7777777777777778,\"#fb9f3a\"],[0.8888888888888888,\"#fdca26\"],[1.0,\"#f0f921\"]]}],\"heatmapgl\":[{\"type\":\"heatmapgl\",\"colorbar\":{\"outlinewidth\":0,\"ticks\":\"\"},\"colorscale\":[[0.0,\"#0d0887\"],[0.1111111111111111,\"#46039f\"],[0.2222222222222222,\"#7201a8\"],[0.3333333333333333,\"#9c179e\"],[0.4444444444444444,\"#bd3786\"],[0.5555555555555556,\"#d8576b\"],[0.6666666666666666,\"#ed7953\"],[0.7777777777777778,\"#fb9f3a\"],[0.8888888888888888,\"#fdca26\"],[1.0,\"#f0f921\"]]}],\"contourcarpet\":[{\"type\":\"contourcarpet\",\"colorbar\":{\"outlinewidth\":0,\"ticks\":\"\"}}],\"contour\":[{\"type\":\"contour\",\"colorbar\":{\"outlinewidth\":0,\"ticks\":\"\"},\"colorscale\":[[0.0,\"#0d0887\"],[0.1111111111111111,\"#46039f\"],[0.2222222222222222,\"#7201a8\"],[0.3333333333333333,\"#9c179e\"],[0.4444444444444444,\"#bd3786\"],[0.5555555555555556,\"#d8576b\"],[0.6666666666666666,\"#ed7953\"],[0.7777777777777778,\"#fb9f3a\"],[0.8888888888888888,\"#fdca26\"],[1.0,\"#f0f921\"]]}],\"surface\":[{\"type\":\"surface\",\"colorbar\":{\"outlinewidth\":0,\"ticks\":\"\"},\"colorscale\":[[0.0,\"#0d0887\"],[0.1111111111111111,\"#46039f\"],[0.2222222222222222,\"#7201a8\"],[0.3333333333333333,\"#9c179e\"],[0.4444444444444444,\"#bd3786\"],[0.5555555555555556,\"#d8576b\"],[0.6666666666666666,\"#ed7953\"],[0.7777777777777778,\"#fb9f3a\"],[0.8888888888888888,\"#fdca26\"],[1.0,\"#f0f921\"]]}],\"mesh3d\":[{\"type\":\"mesh3d\",\"colorbar\":{\"outlinewidth\":0,\"ticks\":\"\"}}],\"scatter\":[{\"fillpattern\":{\"fillmode\":\"overlay\",\"size\":10,\"solidity\":0.2},\"type\":\"scatter\"}],\"parcoords\":[{\"type\":\"parcoords\",\"line\":{\"colorbar\":{\"outlinewidth\":0,\"ticks\":\"\"}}}],\"scatterpolargl\":[{\"type\":\"scatterpolargl\",\"marker\":{\"colorbar\":{\"outlinewidth\":0,\"ticks\":\"\"}}}],\"bar\":[{\"error_x\":{\"color\":\"#2a3f5f\"},\"error_y\":{\"color\":\"#2a3f5f\"},\"marker\":{\"line\":{\"color\":\"#E5ECF6\",\"width\":0.5},\"pattern\":{\"fillmode\":\"overlay\",\"size\":10,\"solidity\":0.2}},\"type\":\"bar\"}],\"scattergeo\":[{\"type\":\"scattergeo\",\"marker\":{\"colorbar\":{\"outlinewidth\":0,\"ticks\":\"\"}}}],\"scatterpolar\":[{\"type\":\"scatterpolar\",\"marker\":{\"colorbar\":{\"outlinewidth\":0,\"ticks\":\"\"}}}],\"histogram\":[{\"marker\":{\"pattern\":{\"fillmode\":\"overlay\",\"size\":10,\"solidity\":0.2}},\"type\":\"histogram\"}],\"scattergl\":[{\"type\":\"scattergl\",\"marker\":{\"colorbar\":{\"outlinewidth\":0,\"ticks\":\"\"}}}],\"scatter3d\":[{\"type\":\"scatter3d\",\"line\":{\"colorbar\":{\"outlinewidth\":0,\"ticks\":\"\"}},\"marker\":{\"colorbar\":{\"outlinewidth\":0,\"ticks\":\"\"}}}],\"scattermapbox\":[{\"type\":\"scattermapbox\",\"marker\":{\"colorbar\":{\"outlinewidth\":0,\"ticks\":\"\"}}}],\"scatterternary\":[{\"type\":\"scatterternary\",\"marker\":{\"colorbar\":{\"outlinewidth\":0,\"ticks\":\"\"}}}],\"scattercarpet\":[{\"type\":\"scattercarpet\",\"marker\":{\"colorbar\":{\"outlinewidth\":0,\"ticks\":\"\"}}}],\"carpet\":[{\"aaxis\":{\"endlinecolor\":\"#2a3f5f\",\"gridcolor\":\"white\",\"linecolor\":\"white\",\"minorgridcolor\":\"white\",\"startlinecolor\":\"#2a3f5f\"},\"baxis\":{\"endlinecolor\":\"#2a3f5f\",\"gridcolor\":\"white\",\"linecolor\":\"white\",\"minorgridcolor\":\"white\",\"startlinecolor\":\"#2a3f5f\"},\"type\":\"carpet\"}],\"table\":[{\"cells\":{\"fill\":{\"color\":\"#EBF0F8\"},\"line\":{\"color\":\"white\"}},\"header\":{\"fill\":{\"color\":\"#C8D4E3\"},\"line\":{\"color\":\"white\"}},\"type\":\"table\"}],\"barpolar\":[{\"marker\":{\"line\":{\"color\":\"#E5ECF6\",\"width\":0.5},\"pattern\":{\"fillmode\":\"overlay\",\"size\":10,\"solidity\":0.2}},\"type\":\"barpolar\"}],\"pie\":[{\"automargin\":true,\"type\":\"pie\"}]},\"layout\":{\"autotypenumbers\":\"strict\",\"colorway\":[\"#636efa\",\"#EF553B\",\"#00cc96\",\"#ab63fa\",\"#FFA15A\",\"#19d3f3\",\"#FF6692\",\"#B6E880\",\"#FF97FF\",\"#FECB52\"],\"font\":{\"color\":\"#2a3f5f\"},\"hovermode\":\"closest\",\"hoverlabel\":{\"align\":\"left\"},\"paper_bgcolor\":\"white\",\"plot_bgcolor\":\"#E5ECF6\",\"polar\":{\"bgcolor\":\"#E5ECF6\",\"angularaxis\":{\"gridcolor\":\"white\",\"linecolor\":\"white\",\"ticks\":\"\"},\"radialaxis\":{\"gridcolor\":\"white\",\"linecolor\":\"white\",\"ticks\":\"\"}},\"ternary\":{\"bgcolor\":\"#E5ECF6\",\"aaxis\":{\"gridcolor\":\"white\",\"linecolor\":\"white\",\"ticks\":\"\"},\"baxis\":{\"gridcolor\":\"white\",\"linecolor\":\"white\",\"ticks\":\"\"},\"caxis\":{\"gridcolor\":\"white\",\"linecolor\":\"white\",\"ticks\":\"\"}},\"coloraxis\":{\"colorbar\":{\"outlinewidth\":0,\"ticks\":\"\"}},\"colorscale\":{\"sequential\":[[0.0,\"#0d0887\"],[0.1111111111111111,\"#46039f\"],[0.2222222222222222,\"#7201a8\"],[0.3333333333333333,\"#9c179e\"],[0.4444444444444444,\"#bd3786\"],[0.5555555555555556,\"#d8576b\"],[0.6666666666666666,\"#ed7953\"],[0.7777777777777778,\"#fb9f3a\"],[0.8888888888888888,\"#fdca26\"],[1.0,\"#f0f921\"]],\"sequentialminus\":[[0.0,\"#0d0887\"],[0.1111111111111111,\"#46039f\"],[0.2222222222222222,\"#7201a8\"],[0.3333333333333333,\"#9c179e\"],[0.4444444444444444,\"#bd3786\"],[0.5555555555555556,\"#d8576b\"],[0.6666666666666666,\"#ed7953\"],[0.7777777777777778,\"#fb9f3a\"],[0.8888888888888888,\"#fdca26\"],[1.0,\"#f0f921\"]],\"diverging\":[[0,\"#8e0152\"],[0.1,\"#c51b7d\"],[0.2,\"#de77ae\"],[0.3,\"#f1b6da\"],[0.4,\"#fde0ef\"],[0.5,\"#f7f7f7\"],[0.6,\"#e6f5d0\"],[0.7,\"#b8e186\"],[0.8,\"#7fbc41\"],[0.9,\"#4d9221\"],[1,\"#276419\"]]},\"xaxis\":{\"gridcolor\":\"white\",\"linecolor\":\"white\",\"ticks\":\"\",\"title\":{\"standoff\":15},\"zerolinecolor\":\"white\",\"automargin\":true,\"zerolinewidth\":2},\"yaxis\":{\"gridcolor\":\"white\",\"linecolor\":\"white\",\"ticks\":\"\",\"title\":{\"standoff\":15},\"zerolinecolor\":\"white\",\"automargin\":true,\"zerolinewidth\":2},\"scene\":{\"xaxis\":{\"backgroundcolor\":\"#E5ECF6\",\"gridcolor\":\"white\",\"linecolor\":\"white\",\"showbackground\":true,\"ticks\":\"\",\"zerolinecolor\":\"white\",\"gridwidth\":2},\"yaxis\":{\"backgroundcolor\":\"#E5ECF6\",\"gridcolor\":\"white\",\"linecolor\":\"white\",\"showbackground\":true,\"ticks\":\"\",\"zerolinecolor\":\"white\",\"gridwidth\":2},\"zaxis\":{\"backgroundcolor\":\"#E5ECF6\",\"gridcolor\":\"white\",\"linecolor\":\"white\",\"showbackground\":true,\"ticks\":\"\",\"zerolinecolor\":\"white\",\"gridwidth\":2}},\"shapedefaults\":{\"line\":{\"color\":\"#2a3f5f\"}},\"annotationdefaults\":{\"arrowcolor\":\"#2a3f5f\",\"arrowhead\":0,\"arrowwidth\":1},\"geo\":{\"bgcolor\":\"white\",\"landcolor\":\"#E5ECF6\",\"subunitcolor\":\"white\",\"showland\":true,\"showlakes\":true,\"lakecolor\":\"white\"},\"title\":{\"x\":0.05},\"mapbox\":{\"style\":\"light\"}}},\"title\":{\"text\":\"3D Scatter Plot\"},\"scene\":{\"xaxis\":{\"title\":{\"text\":\"X Axis\"}},\"yaxis\":{\"title\":{\"text\":\"Y Axis\"}},\"zaxis\":{\"title\":{\"text\":\"Z Axis\"}}}},                        {\"responsive\": true}                    ).then(function(){\n",
              "                            \n",
              "var gd = document.getElementById('9a37cb6c-f3ba-4161-bac4-47a706eb36f5');\n",
              "var x = new MutationObserver(function (mutations, observer) {{\n",
              "        var display = window.getComputedStyle(gd).display;\n",
              "        if (!display || display === 'none') {{\n",
              "            console.log([gd, 'removed!']);\n",
              "            Plotly.purge(gd);\n",
              "            observer.disconnect();\n",
              "        }}\n",
              "}});\n",
              "\n",
              "// Listen for the removal of the full notebook cells\n",
              "var notebookContainer = gd.closest('#notebook-container');\n",
              "if (notebookContainer) {{\n",
              "    x.observe(notebookContainer, {childList: true});\n",
              "}}\n",
              "\n",
              "// Listen for the clearing of the current output cell\n",
              "var outputEl = gd.closest('.output');\n",
              "if (outputEl) {{\n",
              "    x.observe(outputEl, {childList: true});\n",
              "}}\n",
              "\n",
              "                        })                };                            </script>        </div>\n",
              "</body>\n",
              "</html>"
            ]
          },
          "metadata": {}
        }
      ]
    },
    {
      "cell_type": "code",
      "source": [],
      "metadata": {
        "id": "vTHITyiaipBy"
      },
      "execution_count": null,
      "outputs": []
    }
  ]
}